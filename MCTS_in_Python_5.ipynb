{
  "nbformat": 4,
  "nbformat_minor": 0,
  "metadata": {
    "colab": {
      "provenance": [],
      "gpuType": "T4",
      "authorship_tag": "ABX9TyP020Bci5Eh6xTDCueqPGu6",
      "include_colab_link": true
    },
    "kernelspec": {
      "name": "python3",
      "display_name": "Python 3"
    },
    "language_info": {
      "name": "python"
    },
    "accelerator": "GPU"
  },
  "cells": [
    {
      "cell_type": "markdown",
      "metadata": {
        "id": "view-in-github",
        "colab_type": "text"
      },
      "source": [
        "<a href=\"https://colab.research.google.com/github/emm32449/MCTS-in-Python/blob/main/MCTS_in_Python_5.ipynb\" target=\"_parent\"><img src=\"https://colab.research.google.com/assets/colab-badge.svg\" alt=\"Open In Colab\"/></a>"
      ]
    },
    {
      "cell_type": "markdown",
      "source": [
        "help me code my version of alpha go zero for a small game:\n"
      ],
      "metadata": {
        "id": "wXX-0OzDrcwM"
      }
    },
    {
      "cell_type": "markdown",
      "source": [
        "Modifications for MCTS in Python 5:\n",
        "\n",
        "Simulation: Instead of simulating games to the end, we can use the neural network to evaluate the game state and estimate the value and policy. This can be done in the selection method of your MCTS class.\n",
        "\n",
        "Training: We can use the improved move probabilities from MCTS as targets to train the neural network. This can be done in the train method of your MCTS class."
      ],
      "metadata": {
        "id": "hT_Sd1Sunz5y"
      }
    },
    {
      "cell_type": "markdown",
      "source": [
        "MCTS in Python 6:\n",
        "\n",
        "Your self_play function seems to be logically correct, but there are a few potential issues that might cause unexpected behavior:\n",
        "\n",
        "Random Simulation: In the line where you perform the simulation, you’re randomly choosing a child node for the simulation. This might not be ideal because it doesn’t take into account the potential value of each child node. Instead, you might want to use the policy predicted by your network to guide the simulation.\n",
        "\n",
        "Policy Calculation: You’re calculating the policy based on the visit counts of the children nodes. However, this policy is not being used anywhere in the MCTS process. Instead, you’re using a random action selection based on the visit counts. You might want to use this policy to guide the selection process in MCTS.\n",
        "\n",
        "Action Selection: You’re using torch.multinomial to select an action, which introduces randomness into the action selection process. This is generally a good approach for encouraging exploration during training, but you **might want to use a more deterministic action selection strategy during evaluation (e.g., choosing the action with the highest visit count or highest value).**\n",
        "\n",
        "Reward Calculation: You’re getting the reward from the final state after the game has ended. However, this reward is not being backpropagated up the tree. You might want to include a backpropagation step after the game ends to update the value estimates of the nodes.\n",
        "\n",
        "Root Initialization: You’re creating a new root node for each move. This means that the tree is discarded after each move, and the MCTS starts from scratch. This could be inefficient, especially if num_simulations is large. An alternative approach is to keep the subtree corresponding to the chosen action and use it as the new tree for the next move."
      ],
      "metadata": {
        "id": "ze5c4Gh97NOG"
      }
    },
    {
      "cell_type": "code",
      "execution_count": 1,
      "metadata": {
        "id": "sPrMVo-gU3do"
      },
      "outputs": [],
      "source": [
        "# Assume we have a simple game state\n",
        "class GameState:\n",
        "    def __init__(self, state):\n",
        "        self.state = state\n",
        "\n",
        "    def __str__(self):\n",
        "        return str(self.state)\n",
        "\n",
        "    def get_legal_moves(self):\n",
        "        return [1, 2, 3]\n",
        "\n",
        "    def get_initial_state(self):\n",
        "        return GameState(0)\n",
        "\n",
        "    def make_move(self, move):\n",
        "        return GameState(self.state + move)\n",
        "\n",
        "    def is_terminal(self):\n",
        "        return self.state >= 10\n",
        "\n",
        "    def get_reward(self):\n",
        "        # Give a positive reward if the state is exactly 10\n",
        "        if self.state == 10:\n",
        "            return 1\n",
        "        # Give a negative reward if the state exceeds 10\n",
        "        elif self.state > 10:\n",
        "            return -1\n",
        "        # Give a reward based on how close the state is to 10\n",
        "        else:\n",
        "            return 1 - abs(self.state - 10) / 10\n",
        "\n",
        "    def reset(self):\n",
        "        self.state = 0\n",
        "\n",
        "    def copy(self):\n",
        "        return GameState(self.state)\n",
        "\n",
        "    def to_array(self):\n",
        "        return [self.state]"
      ]
    },
    {
      "cell_type": "code",
      "source": [
        "import torch\n",
        "import torch.nn as nn\n",
        "import torch.nn.functional as F\n",
        "import math\n",
        "import random\n",
        "\n",
        "class Node:\n",
        "    def __init__(self, game_state, policy, parent=None, move=None):\n",
        "        self.game_state = game_state\n",
        "        self.policy = policy\n",
        "        self.parent = parent\n",
        "        self.move = move\n",
        "        self.children = []\n",
        "        self.visits = 0\n",
        "        self.wins = 0\n",
        "\n",
        "    def __str__(self):\n",
        "        return f\"GameState: {self.game_state}, Move: {self.move}, Visits: {self.visits}, Wins: {self.wins}\"\n",
        "\n",
        "class MCTS:\n",
        "    def __init__(self, model, root):\n",
        "        self.model = model\n",
        "        self.root = root\n",
        "        self.optimizer = torch.optim.Adam(self.model.parameters(), lr=0.001)\n",
        "\n",
        "    def choose_action(self, node):\n",
        "        # Choose the action that leads to the child with the most visits\n",
        "        max_visits = -math.inf\n",
        "        chosen_action = None\n",
        "        for child in node.children:\n",
        "            if child.visits > max_visits:\n",
        "                max_visits = child.visits\n",
        "                chosen_action = child.move\n",
        "        return chosen_action\n",
        "\n",
        "    def selection(self, node):\n",
        "        # While the current node has children (i.e., it's not a leaf node)\n",
        "        while len(node.children) > 0:\n",
        "            # Initialize the maximum value and the selected node\n",
        "            max_value = -math.inf\n",
        "            selected_node = None\n",
        "\n",
        "            # Loop over each child of the current node\n",
        "            for child in node.children:\n",
        "                # Convert the game state to a tensor\n",
        "                state_tensor = torch.tensor(node.game_state.to_array(), dtype=torch.float32)\n",
        "                # Use the neural network to evaluate the game state and estimate the policy and value\n",
        "                policy, value = self.model(state_tensor)\n",
        "\n",
        "                # Compute the Q-value (average reward) of the child node\n",
        "                Q = child.wins / child.visits if child.visits != 0 else 0\n",
        "                # Compute the U-value (exploration term) of the child node\n",
        "                U = policy.mean() * math.sqrt(node.visits) / (1 + child.visits)\n",
        "                # The value of the node is the sum of the Q-value and U-value\n",
        "                node_value = Q + U\n",
        "\n",
        "                # If the node's value is greater than the current maximum value\n",
        "                if node_value > max_value:\n",
        "                    # Update the maximum value and the selected node\n",
        "                    max_value = node_value\n",
        "                    selected_node = child\n",
        "\n",
        "            # Move to the selected node\n",
        "            node = selected_node\n",
        "\n",
        "        # Return the final selected node\n",
        "        return node\n",
        "\n",
        "    def expansion(self, node):\n",
        "        # Get the list of legal moves from the game state\n",
        "        legal_moves = node.game_state.get_legal_moves()\n",
        "\n",
        "        # For each legal move, create a new node and add it to the children of the current node\n",
        "        for move in legal_moves:\n",
        "            new_game_state = node.game_state.make_move(move)\n",
        "            state_tensor = torch.tensor(new_game_state.to_array(), dtype=torch.float32)\n",
        "            policy, value = self.model(state_tensor)\n",
        "            child_node = Node(new_game_state, policy, parent=node, move=move)\n",
        "            node.children.append(child_node)\n",
        "\n",
        "        return node.children\n",
        "\n",
        "    def simulation(self, node):\n",
        "        # Make a copy of the game state\n",
        "        game_state = node.game_state.copy()\n",
        "\n",
        "        # While the game is not over\n",
        "        while not game_state.is_terminal():\n",
        "\n",
        "            # Get the list of legal moves\n",
        "            legal_moves = game_state.get_legal_moves()\n",
        "\n",
        "            # Choose a move randomly\n",
        "            move = random.choice(legal_moves)\n",
        "\n",
        "            # Apply the move to get the next game state\n",
        "            game_state = game_state.make_move(move)\n",
        "\n",
        "        # Return the reward associated with the terminal state\n",
        "        return game_state.get_reward()\n",
        "\n",
        "    def backpropagation(self, node, reward):\n",
        "        # While node is not None\n",
        "        while node is not None:\n",
        "            # Update the visit count of the node\n",
        "            node.visits += 1\n",
        "\n",
        "            # Update the win count of the node\n",
        "            node.wins += reward\n",
        "\n",
        "            # Move to the parent node\n",
        "            node = node.parent\n",
        "\n",
        "    def run(self, simulations):\n",
        "        for _ in range(simulations):\n",
        "            # Start from the root node\n",
        "            node = self.root\n",
        "\n",
        "            # Selection\n",
        "            node = self.selection(node)\n",
        "\n",
        "            # Skip expansion, simulation, and backpropagation if a terminal node is selected\n",
        "            if node.game_state.is_terminal():\n",
        "                continue\n",
        "\n",
        "            # Expansion\n",
        "            if not node.game_state.is_terminal():\n",
        "                node = random.choice(self.expansion(node))\n",
        "\n",
        "            # Simulation\n",
        "            reward = self.simulation(node)\n",
        "\n",
        "            # Backpropagation\n",
        "            self.backpropagation(node, reward)\n",
        "\n",
        "            # Choose an action\n",
        "            chosen_action = self.choose_action(node)\n",
        "\n",
        "            # Get the list of children that match the chosen action\n",
        "            matching_children = [child for child in node.children if child.move == chosen_action]\n",
        "\n",
        "            # Check if there are any matching children\n",
        "            if matching_children:\n",
        "                # If there are, set the root to the first matching child\n",
        "                self.root = matching_children[0]\n",
        "            else:\n",
        "                # If there are no matching children, handle the error appropriately\n",
        "                print(\"No child found with the chosen action.\")\n",
        "\n",
        "    def print_tree(self, node, indent=\"\"):\n",
        "        print(indent + str(node))\n",
        "        for child in node.children:\n",
        "            self.print_tree(child, indent + \"  \")\n",
        "\n",
        "    def self_play(self, network, game, game_number, num_simulations=50):\n",
        "        states = []\n",
        "        policies = []\n",
        "        current_state = game.get_initial_state()\n",
        "\n",
        "        while not current_state.is_terminal():\n",
        "            # Initialize the root node with the current state\n",
        "            root = Node(current_state, None)\n",
        "\n",
        "            # Perform MCTS simulations from the root\n",
        "            for _ in range(num_simulations):\n",
        "                leaf = self.selection(root)\n",
        "                children = self.expansion(leaf)\n",
        "                reward = self.simulation(random.choice(children))\n",
        "                self.backpropagation(leaf, reward)\n",
        "\n",
        "            # Get the visit counts of the root's children\n",
        "            visit_counts = torch.tensor([child.visits for child in root.children]).float()\n",
        "\n",
        "            # Convert the visit counts to a policy\n",
        "            policy = F.softmax(visit_counts, dim=0).tolist()\n",
        "\n",
        "            # Choose an action based on the policy\n",
        "            action = root.children[torch.multinomial(visit_counts, 1).item()].move\n",
        "\n",
        "            # Store the numerical representation of the state and policy\n",
        "            states.append(current_state.to_array())\n",
        "            policies.append(policy)\n",
        "\n",
        "            # Apply the action to get the next state\n",
        "            current_state = current_state.make_move(action)\n",
        "\n",
        "        # Get the reward from the final state\n",
        "        reward = current_state.get_reward()\n",
        "\n",
        "        return states, policies, reward\n",
        "\n",
        "    # Use the improved move probabilities from MCTS as targets to train the neural network\n",
        "    # This function trains the neural network using the states, policies, and reward from self-play\n",
        "    def train(self, states, policies, reward, epochs):\n",
        "        # Convert the states, policies, and reward to PyTorch tensors\n",
        "        states = torch.tensor(states, dtype=torch.float32)\n",
        "        policies = torch.tensor(policies, dtype=torch.float32)\n",
        "        result = torch.tensor([reward] * len(states), dtype=torch.float32).view(-1, 1)\n",
        "\n",
        "        # Loop over the number of training epochs\n",
        "        for _ in range(epochs):\n",
        "            # Get the predicted policy and value from the network\n",
        "            policy_pred, value_pred = self.model(states)\n",
        "\n",
        "            # Compute the policy loss as the KL divergence between the predicted and target policy\n",
        "            policy_loss = F.kl_div(F.log_softmax(policy_pred, dim=1), policies)\n",
        "            # Compute the value loss as the mean squared error between the predicted and actual reward\n",
        "            value_loss = F.mse_loss(value_pred, result)\n",
        "            # The total loss is the sum of the policy loss and value loss\n",
        "            loss = policy_loss + value_loss\n",
        "\n",
        "            # Zero the gradients, perform backpropagation, and update the network parameters\n",
        "            self.optimizer.zero_grad()\n",
        "            loss.backward()\n",
        "            self.optimizer.step()\n",
        "\n",
        "        # Return the final loss\n",
        "        return loss.item()"
      ],
      "metadata": {
        "id": "ZhvQXmsFU-tP"
      },
      "execution_count": 2,
      "outputs": []
    },
    {
      "cell_type": "code",
      "source": [
        "class PolicyValueNet(nn.Module):\n",
        "    def __init__(self, num_actions):\n",
        "        super().__init__()\n",
        "        self.hidden1 = nn.Linear(1, 64)\n",
        "        self.hidden2 = nn.Linear(64, 64)\n",
        "\n",
        "        # Policy Head forms probabilites for each action, distribution\n",
        "        self.policy_head = nn.Linear(64, num_actions)\n",
        "\n",
        "        # Value Head predicts winner of game from each position, scaler\n",
        "        self.value_head = nn.Linear(64, 1)\n",
        "\n",
        "    def forward(self, state):\n",
        "        x = F.relu(self.hidden1(state))\n",
        "        x = F.relu(self.hidden2(x))\n",
        "        policy = F.softmax(self.policy_head(x), dim=-1)\n",
        "        value = torch.tanh(self.value_head(x))\n",
        "        return policy, value"
      ],
      "metadata": {
        "id": "kIZiFMNsVE0e"
      },
      "execution_count": 3,
      "outputs": []
    },
    {
      "cell_type": "markdown",
      "source": [
        "Initial Training Only"
      ],
      "metadata": {
        "id": "CU-XrgboolKM"
      }
    },
    {
      "cell_type": "code",
      "source": [
        "# Create the game and network\n",
        "game = GameState(0)\n",
        "num_actions = len(game.get_legal_moves())\n",
        "network = PolicyValueNet(num_actions)\n",
        "\n",
        "# Create a uniform policy\n",
        "uniform_policy = [1.0 / num_actions] * num_actions\n",
        "\n",
        "root = Node(game.get_initial_state(), uniform_policy)\n",
        "\n",
        "# Create the MCTS\n",
        "mcts = MCTS(network, root)\n",
        "\n",
        "# Initialize a list to store the losses\n",
        "losses = []\n",
        "\n",
        "# Set the model to training mode\n",
        "network.train()\n",
        "\n",
        "epochs = 50 # Play games\n",
        "game_number = 1\n",
        "\n",
        "# Generate self-play data and train the network\n",
        "for i in range(epochs):\n",
        "    states, actions, reward = mcts.self_play(network, game, game_number)\n",
        "    loss = mcts.train(states, actions, reward, epochs)\n",
        "    losses.append(loss)\n",
        "    game_number += 1"
      ],
      "metadata": {
        "id": "QoRvYDyWomfS"
      },
      "execution_count": null,
      "outputs": []
    },
    {
      "cell_type": "markdown",
      "source": [
        "Save"
      ],
      "metadata": {
        "id": "Ye_YFclpayo7"
      }
    },
    {
      "cell_type": "code",
      "source": [
        "from google.colab import drive\n",
        "drive.mount('/content/drive')\n",
        "\n",
        "# Save the model, optimizer, game number, and losses\n",
        "torch.save({\n",
        "    'model_state_dict': network.state_dict(),\n",
        "    'optimizer_state_dict': mcts.optimizer.state_dict(),\n",
        "    'game_number': game_number,\n",
        "    'losses': losses\n",
        "}, '/content/drive/My Drive/MCTS in Python/MCTS_model.pth')"
      ],
      "metadata": {
        "colab": {
          "base_uri": "https://localhost:8080/"
        },
        "id": "RBLAMk5XZrIt",
        "outputId": "79a90382-fe64-4981-eafe-cd56bf6039fd"
      },
      "execution_count": 10,
      "outputs": [
        {
          "output_type": "stream",
          "name": "stdout",
          "text": [
            "Drive already mounted at /content/drive; to attempt to forcibly remount, call drive.mount(\"/content/drive\", force_remount=True).\n"
          ]
        }
      ]
    },
    {
      "cell_type": "markdown",
      "source": [
        "Load & Continue"
      ],
      "metadata": {
        "id": "ekdmEx-Pa1qo"
      }
    },
    {
      "cell_type": "code",
      "source": [
        "from google.colab import drive\n",
        "drive.mount('/content/drive')\n",
        "\n",
        "# Create the game and network\n",
        "game = GameState(0)\n",
        "num_actions = len(game.get_legal_moves())\n",
        "network = PolicyValueNet(num_actions)\n",
        "\n",
        "# Load the model, optimizer, game number, and losses\n",
        "checkpoint = torch.load('/content/drive/My Drive/MCTS in Python/MCTS_model.pth')\n",
        "network.load_state_dict(checkpoint['model_state_dict'])\n",
        "\n",
        "# Create a uniform policy\n",
        "uniform_policy = [1.0 / num_actions] * num_actions\n",
        "\n",
        "root = Node(game.get_initial_state(), uniform_policy)\n",
        "\n",
        "# Create the MCTS\n",
        "mcts = MCTS(network, root)\n",
        "mcts.optimizer.load_state_dict(checkpoint['optimizer_state_dict'])\n",
        "\n",
        "game_number = checkpoint['game_number']\n",
        "losses = checkpoint['losses']\n",
        "\n",
        "# Set the model to training mode\n",
        "network.train()\n",
        "\n",
        "# Continue training for...<epochs> more games\n",
        "epochs=1000\n",
        "\n",
        "for _ in range(epochs):\n",
        "    states, actions, reward = mcts.self_play(network, game, game_number)\n",
        "    loss = mcts.train(states, actions, reward, epochs)\n",
        "    losses.append(loss)\n",
        "    game_number += 1"
      ],
      "metadata": {
        "colab": {
          "base_uri": "https://localhost:8080/"
        },
        "id": "pqpZ9ZDVatbC",
        "outputId": "90015d4c-8e23-4306-bea8-9d0268ec5173"
      },
      "execution_count": 8,
      "outputs": [
        {
          "output_type": "stream",
          "name": "stdout",
          "text": [
            "Drive already mounted at /content/drive; to attempt to forcibly remount, call drive.mount(\"/content/drive\", force_remount=True).\n"
          ]
        },
        {
          "output_type": "stream",
          "name": "stderr",
          "text": [
            "/usr/local/lib/python3.10/dist-packages/torch/nn/functional.py:2943: UserWarning: reduction: 'mean' divides the total loss by both the batch size and the support size.'batchmean' divides only by the batch size, and aligns with the KL div math definition.'mean' will be changed to behave the same as 'batchmean' in the next major release.\n",
            "  warnings.warn(\n"
          ]
        }
      ]
    },
    {
      "cell_type": "markdown",
      "source": [
        "Plot"
      ],
      "metadata": {
        "id": "qVkffWvpo4t9"
      }
    },
    {
      "cell_type": "code",
      "source": [
        "import matplotlib.pyplot as plt\n",
        "# Print and plot the losses\n",
        "print(f\"Average Loss: {sum(losses) / len(losses)}, Max Loss: {max(losses)}, Min Loss: {min(losses)}\")\n",
        "plt.plot(losses)\n",
        "plt.xlabel('Game')\n",
        "plt.ylabel('Loss')\n",
        "plt.title('Loss per Game')\n",
        "plt.show()"
      ],
      "metadata": {
        "id": "HtdY1Rp_ox9d",
        "colab": {
          "base_uri": "https://localhost:8080/",
          "height": 489
        },
        "outputId": "7a9d2089-19a5-459e-c57c-779dad37953d"
      },
      "execution_count": 9,
      "outputs": [
        {
          "output_type": "stream",
          "name": "stdout",
          "text": [
            "Average Loss: 0.24662748484313488, Max Loss: 3.7292094230651855, Min Loss: 0.06270544230937958\n"
          ]
        },
        {
          "output_type": "display_data",
          "data": {
            "text/plain": [
              "<Figure size 640x480 with 1 Axes>"
            ],
            "image/png": "[encoded data removed]"
          },
          "metadata": {}
        }
      ]
    },
    {
      "cell_type": "markdown",
      "source": [
        "Play, Eval()"
      ],
      "metadata": {
        "id": "fAD1F2WTo18F"
      }
    },
    {
      "cell_type": "code",
      "source": [
        "# Initialize a list to store the results of each game\n",
        "win_rates = []\n",
        "\n",
        "from google.colab import drive\n",
        "drive.mount('/content/drive')\n",
        "\n",
        "# See the model playout games using MCTS\n",
        "\n",
        "# Load the model and optimizer\n",
        "checkpoint = torch.load('/content/drive/My Drive/MCTS in Python/MCTS_model.pth')\n",
        "network.load_state_dict(checkpoint['model_state_dict'])\n",
        "mcts.optimizer.load_state_dict(checkpoint['optimizer_state_dict'])\n",
        "\n",
        "# Set the model to evaluation mode\n",
        "network.eval()\n",
        "\n",
        "# Play # games\n",
        "num_games = 50\n",
        "\n",
        "for i in range(num_games):\n",
        "    print(f\"Game {i + 1}:\")\n",
        "\n",
        "    # Initialize the game and the root node\n",
        "    game_state = game.get_initial_state()\n",
        "    root = Node(game_state, None)\n",
        "\n",
        "    #Make sure that the MCTS and the root node persist throughout each game\n",
        "    mcts = MCTS(network, root)\n",
        "\n",
        "    while not game_state.is_terminal():\n",
        "        # Perform MCTS simulations from the root\n",
        "        for _ in range(num_games):\n",
        "            leaf = mcts.selection(root)\n",
        "            children = mcts.expansion(leaf)\n",
        "            reward = mcts.simulation(random.choice(children))\n",
        "            mcts.backpropagation(leaf, reward)\n",
        "\n",
        "        # Choose the action that leads to the most visited child node\n",
        "        action = mcts.choose_action(root)\n",
        "\n",
        "        # Apply the action to get the next state\n",
        "        game_state = game_state.make_move(action)\n",
        "\n",
        "        # print(f\"Action taken: {action}\")\n",
        "\n",
        "    print(f\"Final reward: {reward}\")\n",
        "\n",
        "    # Append the result of the game to the win_rates list\n",
        "    # Assume a reward of 1 is a win, 0 is a draw, and -1 is a loss\n",
        "    win_rates.append(reward)\n",
        "\n",
        "# mcts.print_tree(mcts.root)\n",
        "\n",
        "# Calculate the win rate\n",
        "win_rate = win_rates.count(1) / num_games\n",
        "\n",
        "# Print and plot the win rates\n",
        "print(f\"Win Rate: {win_rate}\")\n",
        "plt.plot(range(1, num_games + 1), win_rates)\n",
        "plt.xlabel('Game')\n",
        "plt.ylabel('Win Rate')\n",
        "plt.title('Win Rate per Game')\n",
        "plt.show()"
      ],
      "metadata": {
        "colab": {
          "base_uri": "https://localhost:8080/"
        },
        "id": "0HSZiIDvchSf",
        "outputId": "5d25183d-ea02-48d8-a1e2-59ea4b1f46dc"
      },
      "execution_count": null,
      "outputs": [
        {
          "output_type": "stream",
          "name": "stdout",
          "text": [
            "Drive already mounted at /content/drive; to attempt to forcibly remount, call drive.mount(\"/content/drive\", force_remount=True).\n",
            "Game 1:\n",
            "Final reward: -1\n",
            "Game 2:\n",
            "Final reward: 1\n",
            "Game 3:\n",
            "Final reward: -1\n",
            "Game 4:\n",
            "Final reward: -1\n",
            "Game 5:\n",
            "Final reward: -1\n",
            "Game 6:\n",
            "Final reward: -1\n",
            "Game 7:\n",
            "Final reward: -1\n",
            "Game 8:\n",
            "Final reward: -1\n",
            "Game 9:\n",
            "Final reward: -1\n",
            "Game 10:\n",
            "Final reward: -1\n",
            "Game 11:\n",
            "Final reward: 1\n",
            "Game 12:\n",
            "Final reward: 1\n",
            "Game 13:\n",
            "Final reward: -1\n",
            "Game 14:\n",
            "Final reward: -1\n",
            "Game 15:\n",
            "Final reward: -1\n",
            "Game 16:\n",
            "Final reward: -1\n",
            "Game 17:\n",
            "Final reward: -1\n",
            "Game 18:\n",
            "Final reward: -1\n",
            "Game 19:\n",
            "Final reward: -1\n",
            "Game 20:\n",
            "Final reward: -1\n",
            "Game 21:\n",
            "Final reward: 1\n",
            "Game 22:\n",
            "Final reward: -1\n",
            "Game 23:\n",
            "Final reward: -1\n",
            "Game 24:\n",
            "Final reward: -1\n",
            "Game 25:\n",
            "Final reward: 1\n",
            "Game 26:\n",
            "Final reward: -1\n",
            "Game 27:\n",
            "Final reward: -1\n",
            "Game 28:\n",
            "Final reward: 1\n",
            "Game 29:\n",
            "Final reward: 1\n",
            "Game 30:\n",
            "Final reward: -1\n",
            "Game 31:\n",
            "Final reward: -1\n",
            "Game 32:\n",
            "Final reward: -1\n",
            "Game 33:\n",
            "Final reward: 1\n",
            "Game 34:\n",
            "Final reward: -1\n",
            "Game 35:\n",
            "Final reward: 1\n",
            "Game 36:\n",
            "Final reward: -1\n",
            "Game 37:\n",
            "Final reward: -1\n",
            "Game 38:\n",
            "Final reward: 1\n",
            "Game 39:\n",
            "Final reward: -1\n",
            "Game 40:\n",
            "Final reward: 1\n",
            "Game 41:\n",
            "Final reward: 1\n",
            "Game 42:\n",
            "Final reward: -1\n",
            "Game 43:\n",
            "Final reward: -1\n",
            "Game 44:\n"
          ]
        }
      ]
    }
  ]
}