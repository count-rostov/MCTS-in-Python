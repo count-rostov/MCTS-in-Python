{
  "cells": [
    {
      "cell_type": "markdown",
      "metadata": {
        "id": "view-in-github",
        "colab_type": "text"
      },
      "source": [
        "<a href=\"https://colab.research.google.com/github/emm32449/MCTS-in-Python/blob/main/AddingGame_CPU_Pytorch.ipynb\" target=\"_parent\"><img src=\"https://colab.research.google.com/assets/colab-badge.svg\" alt=\"Open In Colab\"/></a>"
      ]
    },
    {
      "cell_type": "markdown",
      "metadata": {
        "id": "WAZmLtNwwWoM"
      },
      "source": [
        "The game is a simple adding game. The game starts at 0 and players can make moves by adding 1, 2, or 3 to the current state. The goal is to reach exactly 10. If a player’s move results in a state exceeding 10, they receive a negative reward. If the state is less than 10, the reward is based on how close the state is to 10. The game resets once it reaches or exceeds 10."
      ]
    },
    {
      "cell_type": "code",
      "execution_count": 4,
      "metadata": {
        "id": "x0QYmzhw8vvl"
      },
      "outputs": [],
      "source": [
        "# Assume we have a simple game state\n",
        "class GameState:\n",
        "    def __init__(self, state):\n",
        "        self.state = state\n",
        "\n",
        "    def __str__(self):\n",
        "        return str(self.state)\n",
        "\n",
        "    def get_legal_moves(self):\n",
        "        return [1, 2, 3]\n",
        "\n",
        "    def get_initial_state(self):\n",
        "        return GameState(0)\n",
        "\n",
        "    def make_move(self, move):\n",
        "        return GameState(self.state + move)\n",
        "\n",
        "    def is_terminal(self):\n",
        "        return self.state >= 10\n",
        "\n",
        "    def get_reward(self):\n",
        "        # Give a positive reward if the state is exactly 10\n",
        "        if self.state == 10:\n",
        "            return 1\n",
        "        # Give a negative reward if the state exceeds 10\n",
        "        elif self.state > 10:\n",
        "            return -1\n",
        "        # Give a reward based on how close the state is to 10\n",
        "        else:\n",
        "            return 1 - abs(self.state - 10) / 10\n",
        "\n",
        "    def reset(self):\n",
        "        self.state = 0\n",
        "\n",
        "    def copy(self):\n",
        "        return GameState(self.state)\n",
        "\n",
        "    def to_array(self):\n",
        "        return [self.state]\n"
      ]
    },
    {
      "cell_type": "markdown",
      "metadata": {
        "id": "lFNyawMAyaHJ"
      },
      "source": [
        "Alpha Go Zero uses a variant of Monte Carlo Tree Search (MCTS) within its training loop. Starting from the root node, which represents the current game state, it traverses the tree until it reaches a leaf node. This game state is passed through the neural network, which outputs a vector of move probabilities and a scalar estimating the expected outcome. The leaf node is then expanded, with each legal move becoming a new child node. The move probabilities output by the network initialize the prior probabilities of selecting each child node in future simulations. The estimated value output by the network is backpropagated up the tree, updating the value estimates of all nodes along the traversed path.\n",
        "\n",
        "This process is repeated for many simulations, with the Upper Confidence Bound (UCB) formula guiding the selection of nodes during tree traversal. The UCB formula balances exploration and exploitation, taking into account both the value of the node and the prior probability of the node, as well as the number of times the node has been visited. After a large number of simulations, the move leading to the child node with the highest visit count from the root is selected as the next action. This procedure allows AlphaGo Zero to effectively learn a policy favoring high-value actions and a value function predicting the game outcome."
      ]
    },
    {
      "cell_type": "code",
      "execution_count": 2,
      "metadata": {
        "id": "sOOxRknh73dp"
      },
      "outputs": [],
      "source": [
        "import torch\n",
        "import torch.nn as nn\n",
        "import torch.nn.functional as F\n",
        "import math\n",
        "import random\n",
        "import numpy as np\n",
        "\n",
        "from torch.nn.utils.rnn import pad_sequence\n",
        "\n",
        "# Normalize GameState Data\n",
        "max_state_value = 15  # Initialize with a known max value or a reasonable estimate\n",
        "\n",
        "def prepare_data(state):\n",
        "    global max_state_value\n",
        "    max_state_value = max(max_state_value, max(state))  # Update the max value if the current state is larger\n",
        "    normalized_state = [s / max_state_value for s in state]\n",
        "    return normalized_state\n",
        "\n",
        "class Node:\n",
        "    def __init__(self, game_state, policy, parent=None, move=None):\n",
        "        self.game_state = game_state\n",
        "        self.policy = policy\n",
        "        self.parent = parent\n",
        "        self.move = move\n",
        "        self.children = []\n",
        "        self.visits = 0\n",
        "        self.wins = 0\n",
        "\n",
        "    def __str__(self):\n",
        "        return f\"GameState: {self.game_state}, Move: {self.move}, Visits: {self.visits}, Wins: {self.wins}\"\n",
        "\n",
        "class MCTS:\n",
        "    def __init__(self, model, root):\n",
        "        self.model = model\n",
        "        self.root = root\n",
        "        self.optimizer = torch.optim.Adam(self.model.parameters(), lr=0.001)\n",
        "        self.scheduler = torch.optim.lr_scheduler.StepLR(self.optimizer, step_size=100, gamma=0.1)\n",
        "\n",
        "    def choose_action(self, node):\n",
        "        # Check the mode of the model\n",
        "        if self.model.training:\n",
        "            # If the model is in training mode, use probabilistic action selection\n",
        "            visit_counts = np.array([child.visits for child in node.children])\n",
        "            visit_dist = visit_counts / visit_counts.sum()\n",
        "            chosen_action = node.children[np.random.choice(len(node.children), p=visit_dist)].move\n",
        "        else:\n",
        "            # If the model is in evaluation mode, use deterministic action selection\n",
        "            max_visits = max(child.visits for child in node.children)\n",
        "            chosen_action = [child.move for child in node.children if child.visits == max_visits][0]\n",
        "        return chosen_action\n",
        "\n",
        "    def selection(self, node):\n",
        "        while len(node.children) > 0:\n",
        "            max_value = -math.inf\n",
        "            selected_node = None\n",
        "            for child in node.children:\n",
        "                if child.visits == 0:  # Stop if the child node has not been visited yet\n",
        "                    return child\n",
        "                state_tensor = torch.tensor(child.game_state.to_array(), dtype=torch.float32)\n",
        "                policy, value = self.model(state_tensor)\n",
        "                Q = child.wins / child.visits if child.visits != 0 else 0\n",
        "                U = policy.mean() * math.sqrt(node.visits) / (1 + child.visits)\n",
        "                node_value = Q + U + child.policy.mean()  # Take the mean of the policy tensor\n",
        "                if node_value > max_value:\n",
        "                    max_value = node_value\n",
        "                    selected_node = child\n",
        "            node = selected_node\n",
        "        return node\n",
        "\n",
        "    def expansion(self, node):\n",
        "        # Get the list of legal moves from the game state\n",
        "        legal_moves = node.game_state.get_legal_moves()\n",
        "\n",
        "        # For each legal move, create a new node and add it to the children of the current node\n",
        "        for move in legal_moves:\n",
        "            new_game_state = node.game_state.make_move(move)\n",
        "            state_tensor = torch.tensor(new_game_state.to_array(), dtype=torch.float32)\n",
        "            policy, value = self.model(state_tensor)\n",
        "            child_node = Node(new_game_state, policy, parent=node, move=move)\n",
        "            node.children.append(child_node)\n",
        "\n",
        "        return node.children\n",
        "\n",
        "    def simulation(self, node):\n",
        "        game_state = node.game_state.copy()\n",
        "        while not game_state.is_terminal():\n",
        "            state_tensor = torch.tensor(game_state.to_array(), dtype=torch.float32)\n",
        "            policy, _ = self.model(state_tensor)\n",
        "            policy_dist = F.softmax(policy, dim=0).detach().numpy()\n",
        "            legal_moves = game_state.get_legal_moves()\n",
        "            move = np.random.choice(legal_moves, p=policy_dist)\n",
        "            game_state = game_state.make_move(move)\n",
        "            #print(f\"Game state after move: {game_state}\")  # Print the game state after each move\n",
        "        reward = game_state.get_reward()\n",
        "        #print(f\"Terminal game state reached with reward: {reward}\")  # Print the reward when a terminal state is reached\n",
        "        return reward\n",
        "\n",
        "    def backpropagation(self, node, reward):\n",
        "        # While node is not None\n",
        "        while node is not None:\n",
        "            # Update the visit count of the node\n",
        "            node.visits += 1\n",
        "\n",
        "            # Update the win count of the node\n",
        "            node.wins += reward\n",
        "\n",
        "            # Move to the parent node\n",
        "            node = node.parent\n",
        "\n",
        "    def print_tree(self, node, indent=\"\"):\n",
        "        print(indent + str(node))\n",
        "        for child in node.children:\n",
        "            self.print_tree(child, indent + \"  \")\n",
        "\n",
        "    # Train\n",
        "    def train(self, states, policies, rewards, epochs):\n",
        "        # Convert states, policies, and rewards to tensors\n",
        "        states = torch.tensor(states, dtype=torch.float32)\n",
        "        policies = torch.tensor(policies, dtype=torch.float32)\n",
        "        rewards = torch.tensor(rewards, dtype=torch.float32)\n",
        "\n",
        "        for _ in range(epochs):\n",
        "            policy_pred, value_pred = self.model(states)\n",
        "\n",
        "            policy_loss = F.kl_div(F.log_softmax(policy_pred, dim=1), policies)\n",
        "            value_loss = F.mse_loss(value_pred.squeeze(), rewards)\n",
        "            loss = policy_loss + value_loss\n",
        "\n",
        "            self.optimizer.zero_grad()\n",
        "            loss.backward()\n",
        "            self.optimizer.step()\n",
        "\n",
        "        return loss.item()\n",
        "\n",
        "    # Self Play\n",
        "    def self_play(self, network, game, game_number, num_simulations):\n",
        "        states = []\n",
        "        policies = []\n",
        "        current_state = game.get_initial_state()\n",
        "        root = Node(current_state, None)\n",
        "\n",
        "        for sim in range(num_simulations):\n",
        "            #print(f\"Starting simulation.\")\n",
        "            leaf = self.selection(root)\n",
        "            children = self.expansion(leaf)\n",
        "            self.simulation(random.choice(children))\n",
        "            legal_actions = game.get_legal_moves()\n",
        "            visit_counts = [child.visits if child.visits > 0 else torch.rand(1).item() for child in root.children]\n",
        "            policy = torch.zeros(network.policy_head.out_features)  # Initialize a zero vector of length equal to the output size of the policy head\n",
        "            for action, visit_count in zip(legal_actions, visit_counts):\n",
        "                policy[action - 1] = visit_count  # Subtract 1 from action to use it as an index\n",
        "            policy = F.softmax(policy, dim=0)\n",
        "\n",
        "            action_index = torch.multinomial(policy, 1).item()\n",
        "            action = root.children[action_index].move\n",
        "            states.append(prepare_data(current_state.to_array()))\n",
        "            policies.append(policy.tolist())  # Convert policy tensor to list\n",
        "            current_state = current_state.make_move(action + 1)  # Add 1 to action to use it as a move\n",
        "            root = root.children[action_index]\n",
        "\n",
        "        # Determine the reward based on the final state of the game\n",
        "        reward = current_state.get_reward()\n",
        "\n",
        "        return states, policies, reward  # Return policies as a list\n",
        "\n",
        "class MyReplayBuffer:\n",
        "    def __init__(self, max_size):\n",
        "        # Initialize your buffer with a maximum size\n",
        "        self.max_size = max_size\n",
        "        self.buffer = []\n",
        "\n",
        "    def add_transition(self, transition):\n",
        "        # Add a transition (state, action, reward, next_state) to the buffer\n",
        "        self.buffer.append(transition)\n",
        "        if len(self.buffer) > self.max_size:\n",
        "            self.buffer.pop(0)\n",
        "\n",
        "    def sample_batch(self, batch_size):\n",
        "        # Sample a batch of transitions\n",
        "        return random.sample(self.buffer, batch_size)\n",
        "\n",
        "class EloRating:\n",
        "    def __init__(self, initial_rating=1200, k=20):\n",
        "        self.rating = initial_rating\n",
        "        self.k = k\n",
        "\n",
        "    def update(self, score):\n",
        "        benchmark_rating = 10  # Set this to the desired benchmark performance level\n",
        "        expected_score = 1 / (1 + 10 ** ((benchmark_rating - self.rating) / 400))\n",
        "        self.rating += self.k * (score - expected_score)\n",
        "        return self.rating"
      ]
    },
    {
      "cell_type": "markdown",
      "metadata": {
        "id": "2DtoYH_eB9lr"
      },
      "source": [
        "Initial Training Loop:\n",
        "\n",
        "A Replay Buffer helps to break the correlation between consecutive experiences, which is beneficial for the stability of the learning algorithm. The policy is represented implicitly by the actions chosen by the Monte Carlo Tree Search, which uses the neural network’s outputs."
      ]
    },
    {
      "cell_type": "code",
      "execution_count": null,
      "metadata": {
        "id": "fc9tvyZeB6zh"
      },
      "outputs": [],
      "source": [
        "# Create the game and network\n",
        "game = GameState(0)  # Initialize the game\n",
        "num_actions = len(game.get_legal_moves())  # Get the number of possible actions\n",
        "network = PolicyValueResNet(num_actions)  # Initialize the policy-value network\n",
        "uniform_policy = [1.0 / num_actions] * num_actions  # Initialize a uniform policy\n",
        "root = Node(game.get_initial_state(), uniform_policy)  # Initialize the root node of the MCTS\n",
        "mcts = MCTS(network, root)  # Initialize the MCTS with the network and root node\n",
        "epoch_losses = []  # Initialize a list to store the losses per epoch\n",
        "elo_ratings = []\n",
        "\n",
        "# Initialize Elo rating\n",
        "elo = EloRating()\n",
        "\n",
        "network.train()  # Set the network to training mode\n",
        "\n",
        "game_number = 1  # Initialize the game number\n",
        "optimizer = torch.optim.Adam(network.parameters())  # Initialize the optimizer\n",
        "scheduler = torch.optim.lr_scheduler.StepLR(optimizer, step_size=100, gamma=0.1)  # Initialize the learning rate scheduler\n",
        "\n",
        "import random\n",
        "\n",
        "total_games = 0  # Initialize the total number of games played\n",
        "\n",
        "# Hyperparameters\n",
        "epochs = 100\n",
        "num_simulations = 20\n",
        "# Replay Buffer\n",
        "max_buffer_size = 1000\n",
        "replay_buffer = MyReplayBuffer(max_buffer_size)\n",
        "batch_size = 100\n",
        "subset_size = 80\n",
        "\n",
        "for i in range(epochs):\n",
        "    batch_states, batch_policies, batch_rewards = [], [], []\n",
        "    batch_losses = []\n",
        "\n",
        "    for j in range(batch_size):\n",
        "        # Collect transitions during self-play\n",
        "        states, policies, reward = mcts.self_play(network, game, game_number, num_simulations)\n",
        "        for state, policy, r in zip(states, policies, [reward] * len(states)):\n",
        "            replay_buffer.add_transition((state, policy, r))\n",
        "\n",
        "        total_games += 1\n",
        "        #print(f\"Game number {total_games} completed in batch {i + 1}\")\n",
        "\n",
        "    # Sample a subset from the buffer\n",
        "    batch_transitions = replay_buffer.sample_batch(subset_size)\n",
        "    subset_states, subset_policies, subset_rewards = zip(*batch_transitions)\n",
        "\n",
        "    # Train the network using the subset\n",
        "    loss = mcts.train(subset_states, subset_policies, subset_rewards, epochs)\n",
        "    batch_losses.append(loss)\n",
        "\n",
        "    avg_loss = sum(batch_losses) / len(batch_losses)\n",
        "    epoch_losses.append(avg_loss)\n",
        "    #print(f\"Average loss after epoch {i + 1}: {avg_loss}\")\n",
        "\n",
        "    # Adjust learning rate\n",
        "    scheduler.step()\n",
        "\n",
        "    # Update Elo rating based on the performance in this epoch\n",
        "    score = 1 if game.state == 10 else 0 if game.state > 10 else 0.5\n",
        "    elo.update(score)\n",
        "    elo_ratings.append(elo.rating)\n",
        "    #print(f\"Elo Rating after epoch {i + 1}: {elo.rating}\")"
      ]
    },
    {
      "cell_type": "markdown",
      "metadata": {
        "id": "XRFKPBfHv8ZN"
      },
      "source": [
        "Network:\n",
        "⌨\n",
        "\n",
        "Input is a 1D vector rather than a 2D Board or image. Adjust the network to use fully connected layers (nn.Linear) instead of 2D convolutional layers (nn.Conv2d). The idea behind a Residual Block is to introduce a so-called “skip connection” or “shortcut”, which allows the gradient to be directly backpropagated to earlier layers.\n",
        "\n",
        "During training, the network is updated to make its policy output match the actions selected by the Monte Carlo Tree Search (MCTS), and to make its value output match the final outcome of the simulated games."
      ]
    },
    {
      "cell_type": "code",
      "execution_count": 5,
      "metadata": {
        "id": "pru2HloYByJW"
      },
      "outputs": [],
      "source": [
        "class ResidualBlock(nn.Module):\n",
        "    def __init__(self, num_channels):\n",
        "        super().__init__()\n",
        "        self.fc1 = nn.Linear(num_channels, num_channels)\n",
        "        self.fc2 = nn.Linear(num_channels, num_channels)\n",
        "\n",
        "    def forward(self, x):\n",
        "        out = F.relu(self.fc1(x))\n",
        "        out = self.fc2(out)\n",
        "        out += x  # Skip connection\n",
        "        out = F.relu(out)\n",
        "        return out\n",
        "\n",
        "class PolicyValueResNet(nn.Module):\n",
        "    def __init__(self, num_actions):\n",
        "        super().__init__()\n",
        "        self.hidden1 = nn.Linear(1, 64)\n",
        "        self.resblock = ResidualBlock(64)\n",
        "        self.hidden2 = nn.Linear(64, 64)\n",
        "\n",
        "        # Policy Head forms probabilities for each action, distribution\n",
        "        self.policy_head = nn.Linear(64, num_actions)\n",
        "\n",
        "        # Value Head predicts winner of game from each position, scaler\n",
        "        self.value_head = nn.Linear(64, 1)\n",
        "\n",
        "    def forward(self, state):\n",
        "        x = F.relu(self.hidden1(state))\n",
        "        x = self.resblock(x)\n",
        "        x = F.relu(self.hidden2(x))\n",
        "        policy = F.softmax(self.policy_head(x), dim=-1)\n",
        "        value = torch.tanh(self.value_head(x))\n",
        "        return policy, value"
      ]
    },
    {
      "cell_type": "markdown",
      "metadata": {
        "id": "LAF2Ys-ZCFdZ"
      },
      "source": [
        "Save - AddingGame_MCTS_Model2.pth"
      ]
    },
    {
      "cell_type": "code",
      "execution_count": null,
      "metadata": {
        "colab": {
          "base_uri": "https://localhost:8080/"
        },
        "id": "o5h2irDtCI1h",
        "outputId": "08ecceed-bebd-41d6-ec42-1d464b7e317b"
      },
      "outputs": [
        {
          "output_type": "stream",
          "name": "stdout",
          "text": [
            "Drive already mounted at /content/drive; to attempt to forcibly remount, call drive.mount(\"/content/drive\", force_remount=True).\n"
          ]
        }
      ],
      "source": [
        "from google.colab import drive\n",
        "drive.mount('/content/drive')\n",
        "\n",
        "# Save the model, optimizer, game number, average losses per epoch, total games, game state, and root node\n",
        "torch.save({\n",
        "    'model_state_dict': network.state_dict(),\n",
        "    'optimizer_state_dict': optimizer.state_dict(),\n",
        "    'scheduler_state_dict': scheduler.state_dict(),\n",
        "    'game_number': game_number,\n",
        "    'epoch_losses': epoch_losses,\n",
        "    'total_games': total_games,\n",
        "    'game_state': game,\n",
        "    'root_node': root,\n",
        "    'elo_rating': elo.rating,\n",
        "    'elo_ratings': elo_ratings\n",
        "}, '/content/drive/My Drive/MCTS in Python/AddingGame_MCTS_Model2.pth')"
      ]
    },
    {
      "cell_type": "markdown",
      "metadata": {
        "id": "yXPZBNPXCU7U"
      },
      "source": [
        "Load & Continue - AddingGame_MCTS_Model2.pth"
      ]
    },
    {
      "cell_type": "code",
      "execution_count": null,
      "metadata": {
        "id": "nwmUGLMZCZqW",
        "colab": {
          "base_uri": "https://localhost:8080/"
        },
        "outputId": "8741bdc5-22ce-47bb-b7bd-316d291c4126"
      },
      "outputs": [
        {
          "output_type": "stream",
          "name": "stdout",
          "text": [
            "Drive already mounted at /content/drive; to attempt to forcibly remount, call drive.mount(\"/content/drive\", force_remount=True).\n"
          ]
        }
      ],
      "source": [
        "from google.colab import drive\n",
        "drive.mount('/content/drive')\n",
        "\n",
        "game = GameState(0)  # Initialize the game\n",
        "num_actions = len(game.get_legal_moves())  # Get the number of possible actions\n",
        "network = PolicyValueResNet(num_actions)  # Initialize the policy-value network\n",
        "uniform_policy = [1.0 / num_actions] * num_actions  # Initialize a uniform policy\n",
        "root = Node(game.get_initial_state(), uniform_policy)  # Initialize the root node of the MCTS\n",
        "mcts = MCTS(network, root)  # Initialize the MCTS with the network and root node\n",
        "\n",
        "optimizer = torch.optim.Adam(network.parameters())  # Initialize the optimizer\n",
        "scheduler = torch.optim.lr_scheduler.StepLR(optimizer, step_size=100, gamma=0.1)  # Initialize the learning rate scheduler\n",
        "\n",
        "# Load the saved model, optimizer, scheduler, and other necessary variables from the checkpoint\n",
        "checkpoint = torch.load('/content/drive/My Drive/MCTS in Python/AddingGame_MCTS_Model2.pth')\n",
        "network.load_state_dict(checkpoint['model_state_dict'])\n",
        "optimizer.load_state_dict(checkpoint['optimizer_state_dict'])\n",
        "scheduler.load_state_dict(checkpoint['scheduler_state_dict'])\n",
        "game_number = checkpoint['game_number']\n",
        "epoch_losses = checkpoint['epoch_losses']\n",
        "total_games = checkpoint['total_games']\n",
        "game = checkpoint['game_state']\n",
        "root = checkpoint['root_node']\n",
        "elo_rating = checkpoint['elo_rating']\n",
        "elo_ratings = checkpoint['elo_ratings']\n",
        "\n",
        "elo = EloRating(initial_rating=elo_rating)\n",
        "\n",
        "# Continue training\n",
        "network.train()  # Ensure the network is in training mode\n",
        "epochs = 500\n",
        "num_simulations = 50\n",
        "max_buffer_size = 1000\n",
        "replay_buffer = MyReplayBuffer(max_buffer_size)  # Initialize the replay buffer\n",
        "batch_size = 100\n",
        "subset_size = 80\n",
        "\n",
        "for i in range(epochs):\n",
        "    batch_states, batch_policies, batch_rewards = [], [], []\n",
        "    batch_losses = []\n",
        "    for j in range(batch_size):\n",
        "        # Perform self-play and add the resulting states, policies, and rewards to the batch\n",
        "        states, policies, reward = mcts.self_play(network, game, game_number, num_simulations)\n",
        "        for state, policy, r in zip(states, policies, [reward] * len(states)):\n",
        "            replay_buffer.add_transition((state, policy, r))  # Add transitions to the replay buffer\n",
        "        total_games += 1\n",
        "        #print(f\"Game number {total_games} completed in batch {i + 1}\")\n",
        "    # Sample a random subset of transitions from the replay buffer\n",
        "    batch_transitions = replay_buffer.sample_batch(subset_size)\n",
        "    subset_states, subset_policies, subset_rewards = zip(*batch_transitions)\n",
        "    # Train the network on the subset and calculate the loss\n",
        "    loss = mcts.train(subset_states, subset_policies, subset_rewards, epochs)\n",
        "    batch_losses.append(loss)\n",
        "    avg_loss = sum(batch_losses) / len(batch_losses)\n",
        "    epoch_losses.append(avg_loss)\n",
        "    #print(f\"Average loss after epoch {i + 1}: {avg_loss}\")\n",
        "    scheduler.step()  # Update the learning rate\n",
        "\n",
        "    # Update Elo rating based on the performance in this epoch\n",
        "    score = 1 if game.state == 10 else 0 if game.state > 10 else 0.5\n",
        "    elo.update(score)\n",
        "    elo_ratings.append(elo.rating)\n",
        "    #print(f\"Elo Rating after epoch {i + 1}: {elo.rating}\")"
      ]
    },
    {
      "cell_type": "markdown",
      "metadata": {
        "id": "wgQNH257CsqR"
      },
      "source": [
        "Plots for Loss and Elo Rating:\n",
        "\n",
        "The Elo rating system is a tool to measure performance and guide learning. A decreasing Elo rating could mean that the model is exploring the game space and making necessary mistakes to learn. Over time, as the model learns from these mistakes, its performance and Elo rating should start to improve. If the Elo rating continues to decrease over a long period of time, it might be worth revisiting your training process, learning rate, or the design of your model. It could be that the model is stuck in a suboptimal strategy, or that the learning rate is too high or too low."
      ]
    },
    {
      "cell_type": "code",
      "execution_count": null,
      "metadata": {
        "id": "UPoohsmUCrX4"
      },
      "outputs": [],
      "source": [
        "import matplotlib.pyplot as plt\n",
        "\n",
        "# Create a figure and a set of subplots\n",
        "fig, axs = plt.subplots(nrows=1, ncols=2, figsize=(8, 4))\n",
        "\n",
        "# Plot the average losses per epoch\n",
        "axs[0].plot(range(1, len(epoch_losses) + 1), epoch_losses)  # Use epoch numbers as x-axis\n",
        "axs[0].set_xlabel('Epoch')\n",
        "axs[0].set_ylabel('Average Loss')\n",
        "axs[0].set_title('Average Loss per Epoch')\n",
        "\n",
        "# Plot the Elo ratings per epoch\n",
        "# Assuming elo_ratings is a list of Elo ratings after each epoch\n",
        "axs[1].plot(range(1, len(elo_ratings) + 1), elo_ratings)  # Use epoch numbers as x-axis\n",
        "axs[1].set_xlabel('Epoch')\n",
        "axs[1].set_ylabel('Elo Rating')\n",
        "axs[1].set_title('Elo Rating per Epoch')\n",
        "\n",
        "# Display the plots\n",
        "plt.tight_layout()\n",
        "plt.show()"
      ]
    },
    {
      "cell_type": "markdown",
      "metadata": {
        "id": "VjoxJ-3iCvEf"
      },
      "source": [
        "Play, Eval() - AddingGame_MCTS_Model2.pth"
      ]
    },
    {
      "cell_type": "code",
      "execution_count": 10,
      "metadata": {
        "id": "MwqfjyLTCyTP",
        "colab": {
          "base_uri": "https://localhost:8080/"
        },
        "outputId": "d61c4dc8-fd9b-489a-81c8-0c91a7cf28d0"
      },
      "outputs": [
        {
          "output_type": "stream",
          "name": "stdout",
          "text": [
            "Drive already mounted at /content/drive; to attempt to forcibly remount, call drive.mount(\"/content/drive\", force_remount=True).\n",
            "Win rate: 0.14\n"
          ]
        }
      ],
      "source": [
        "# Initialize a list to store the results of each game\n",
        "rewards = []\n",
        "elo = EloRating()\n",
        "\n",
        "from google.colab import drive\n",
        "drive.mount('/content/drive')\n",
        "\n",
        "game = GameState(0)\n",
        "num_actions = len(game.get_legal_moves())\n",
        "network = PolicyValueResNet(num_actions)\n",
        "uniform_policy = [1.0 / num_actions] * num_actions\n",
        "root = Node(game.get_initial_state(), uniform_policy)\n",
        "mcts = MCTS(network, root)\n",
        "\n",
        "# Load the model and optimizer\n",
        "checkpoint = torch.load('/content/drive/My Drive/MCTS in Python/AddingGame_MCTS_Model2.pth')\n",
        "network.load_state_dict(checkpoint['model_state_dict'])\n",
        "mcts.optimizer.load_state_dict(checkpoint['optimizer_state_dict'])\n",
        "\n",
        "# Set the model to evaluation mode\n",
        "network.eval()\n",
        "\n",
        "num_games = 100\n",
        "num_sims = 50\n",
        "elo_ratings = []  # Initialize a list to store the Elo ratings\n",
        "\n",
        "for i in range(num_games):\n",
        "    #print(f\"Game {i + 1}:\")\n",
        "\n",
        "    # Initialize the game and the root node\n",
        "    game_state = game.get_initial_state()\n",
        "    root = Node(game_state, None)\n",
        "\n",
        "    # Make sure that the MCTS and the root node persist throughout each game\n",
        "    mcts = MCTS(network, root)\n",
        "\n",
        "    while not game_state.is_terminal():\n",
        "        # Perform MCTS simulations from the root\n",
        "        for _ in range(num_sims):\n",
        "            leaf = mcts.selection(root)\n",
        "            children = mcts.expansion(leaf)\n",
        "            reward = mcts.simulation(random.choice(children))\n",
        "            mcts.backpropagation(leaf, reward)\n",
        "\n",
        "        # Choose the action that leads to the most visited child node\n",
        "        action = mcts.choose_action(root)\n",
        "\n",
        "        # Apply the action to get the next state\n",
        "        game_state = game_state.make_move(action)\n",
        "\n",
        "        #print(f\"Action taken: {action}\")\n",
        "\n",
        "    #print(f\"Final reward: {reward}\")\n",
        "\n",
        "    # Append the result of the game to the rewards list\n",
        "    rewards.append(reward)\n",
        "\n",
        "    # Update Elo rating based on the performance in this game\n",
        "    score = 1 if reward == 1 else 0 if reward == -1 else 0.5\n",
        "    elo.update(score)\n",
        "    elo_ratings.append(elo.rating)  # Append the updated Elo rating to the list\n",
        "\n",
        "    #print(f\"Elo rating after game {i + 1}: {elo.rating}\")\n",
        "\n",
        "# Calculate the win rate\n",
        "win_rate = rewards.count(1) / num_games\n",
        "\n",
        "print(f\"Win rate: {win_rate}\")"
      ]
    },
    {
      "cell_type": "code",
      "source": [
        "import matplotlib.pyplot as plt\n",
        "\n",
        "# Plot Elo rating over time\n",
        "plt.plot(range(1, num_games + 1), elo_ratings)\n",
        "plt.xlabel('Game number')\n",
        "plt.ylabel('Elo rating')\n",
        "plt.title('Elo rating over time')\n",
        "plt.show()"
      ],
      "metadata": {
        "id": "BbbVywLxcSah",
        "outputId": "5259858b-a445-45ad-c388-1577a0941ebf",
        "colab": {
          "base_uri": "https://localhost:8080/",
          "height": 472
        }
      },
      "execution_count": 13,
      "outputs": [
        {
          "output_type": "display_data",
          "data": {
            "text/plain": [
              "<Figure size 640x480 with 1 Axes>"
            ],
            "image/png": "[encoded data removed]"
          },
          "metadata": {}
        }
      ]
    }
  ],
  "metadata": {
    "colab": {
      "provenance": [],
      "authorship_tag": "ABX9TyPSQWBEdsgRuQYebCfXl0n2",
      "include_colab_link": true
    },
    "kernelspec": {
      "display_name": "Python 3",
      "name": "python3"
    },
    "language_info": {
      "name": "python"
    }
  },
  "nbformat": 4,
  "nbformat_minor": 0
}